{
 "cells": [
  {
   "cell_type": "markdown",
   "metadata": {},
   "source": [
    "### Importing all the necessary modules for the application.\n",
    "\n",
    "__*IMPORTANT:* After installing the packages, please restart the Jupyter kernal for the changes to take place.__"
   ]
  },
  {
   "cell_type": "code",
   "execution_count": 1,
   "metadata": {},
   "outputs": [
    {
     "name": "stdout",
     "output_type": "stream",
     "text": [
      "diffusers already installed\n",
      "torch already installed\n",
      "torchvision already installed\n",
      "Requirement already satisfied: invisible_watermark in c:\\users\\katra\\anaconda3\\envs\\stabilityai-env\\lib\\site-packages (0.2.0)\n",
      "Requirement already satisfied: Pillow>=6.0.0 in c:\\users\\katra\\anaconda3\\envs\\stabilityai-env\\lib\\site-packages (from invisible_watermark) (10.0.0)\n",
      "Requirement already satisfied: PyWavelets>=1.1.1 in c:\\users\\katra\\anaconda3\\envs\\stabilityai-env\\lib\\site-packages (from invisible_watermark) (1.4.1)\n",
      "Requirement already satisfied: numpy>=1.17.0 in c:\\users\\katra\\anaconda3\\envs\\stabilityai-env\\lib\\site-packages (from invisible_watermark) (1.25.1)\n",
      "Requirement already satisfied: opencv-python>=4.1.0.25 in c:\\users\\katra\\anaconda3\\envs\\stabilityai-env\\lib\\site-packages (from invisible_watermark) (4.8.0.74)\n",
      "Requirement already satisfied: torch in c:\\users\\katra\\anaconda3\\envs\\stabilityai-env\\lib\\site-packages (from invisible_watermark) (2.0.1)\n",
      "Requirement already satisfied: filelock in c:\\users\\katra\\anaconda3\\envs\\stabilityai-env\\lib\\site-packages (from torch->invisible_watermark) (3.12.2)\n",
      "Requirement already satisfied: typing-extensions in c:\\users\\katra\\anaconda3\\envs\\stabilityai-env\\lib\\site-packages (from torch->invisible_watermark) (4.7.1)\n",
      "Requirement already satisfied: sympy in c:\\users\\katra\\anaconda3\\envs\\stabilityai-env\\lib\\site-packages (from torch->invisible_watermark) (1.12)\n",
      "Requirement already satisfied: networkx in c:\\users\\katra\\anaconda3\\envs\\stabilityai-env\\lib\\site-packages (from torch->invisible_watermark) (3.1)\n",
      "Requirement already satisfied: jinja2 in c:\\users\\katra\\anaconda3\\envs\\stabilityai-env\\lib\\site-packages (from torch->invisible_watermark) (3.1.2)\n",
      "Requirement already satisfied: MarkupSafe>=2.0 in c:\\users\\katra\\anaconda3\\envs\\stabilityai-env\\lib\\site-packages (from jinja2->torch->invisible_watermark) (2.1.3)\n",
      "Requirement already satisfied: mpmath>=0.19 in c:\\users\\katra\\anaconda3\\envs\\stabilityai-env\\lib\\site-packages (from sympy->torch->invisible_watermark) (1.3.0)\n",
      "Note: you may need to restart the kernel to use updated packages.\n",
      "gradio already installed\n",
      "transformers already installed\n",
      "accelerate already installed\n",
      "safetensors already installed\n"
     ]
    }
   ],
   "source": [
    "import pkgutil\n",
    "\n",
    "# installing Diffusers package for Stable Diffusion Image Generation.\n",
    "if pkgutil.find_loader('diffusers') is None:\n",
    "    %pip install diffusers\n",
    "else:\n",
    "    print('diffusers already installed')\n",
    "\n",
    "# installing PyTorch for Transformers, accelerators and SafeTensors.\n",
    "if pkgutil.find_loader('torch') is None:\n",
    "    %pip install torch\n",
    "else:\n",
    "    print('torch already installed')\n",
    "\n",
    "if pkgutil.find_loader('torchvision') is None:\n",
    "    %pip install torchvision\n",
    "else:\n",
    "    print('torchvision already installed')\n",
    "\n",
    "# installing the Invisible WaterMarking package.\n",
    "if pkgutil.find_loader('invisible_watermark') is None:\n",
    "    %pip install invisible_watermark\n",
    "else:\n",
    "    print('invisible_watermark already installed')\n",
    "\n",
    "# installing Gradio for the GUI.\n",
    "if pkgutil.find_loader('gradio') is None:\n",
    "    %pip install gradio\n",
    "else:\n",
    "    print('gradio already installed')\n",
    "\n",
    "# installing transformers\n",
    "if pkgutil.find_loader('transformers') is None:\n",
    "    %pip install transformers\n",
    "else:\n",
    "    print('transformers already installed')\n",
    "\n",
    "# installing Accelerate\n",
    "if pkgutil.find_loader('accelerate') is None:\n",
    "    %pip install accelerate\n",
    "else:\n",
    "    print('accelerate already installed')\n",
    "\n",
    "# installing SafeTensors\n",
    "if pkgutil.find_loader('safetensors') is None:\n",
    "    %pip install safetensors\n",
    "else:\n",
    "    print('safetensors already installed')\n",
    "\n",
    "# !pip install torch torchvision cudatoolkit=12.2\n",
    "\n",
    "# importing packages\n",
    "import torch\n",
    "from diffusers import DiffusionPipeline\n",
    "import gradio as gr\n",
    "\n"
   ]
  },
  {
   "cell_type": "code",
   "execution_count": 4,
   "metadata": {},
   "outputs": [
    {
     "name": "stdout",
     "output_type": "stream",
     "text": [
      "Torch version: 2.0.1+cpu\n",
      "Is CUDA enabled? False\n"
     ]
    }
   ],
   "source": [
    "import torch\n",
    "\n",
    "print(\"Torch version:\",torch.__version__)\n",
    "\n",
    "print(\"Is CUDA enabled?\",torch.cuda.is_available())"
   ]
  },
  {
   "cell_type": "markdown",
   "metadata": {},
   "source": [
    "### Loading the \"Base\" and \"Refiner\" models of Stable Diffusion XL\n",
    "\n",
    "we use the *Base* model to generate the image, and use *Refiner* model to refine the generated image by applying post-processing effects, upscalling, etc."
   ]
  },
  {
   "cell_type": "code",
   "execution_count": 3,
   "metadata": {},
   "outputs": [
    {
     "data": {
      "application/vnd.jupyter.widget-view+json": {
       "model_id": "608eb7542bc64b389823424349df8559",
       "version_major": 2,
       "version_minor": 0
      },
      "text/plain": [
       "Loading pipeline components...:   0%|          | 0/7 [00:00<?, ?it/s]"
      ]
     },
     "metadata": {},
     "output_type": "display_data"
    },
    {
     "ename": "AssertionError",
     "evalue": "Torch not compiled with CUDA enabled",
     "output_type": "error",
     "traceback": [
      "\u001b[1;31m---------------------------------------------------------------------------\u001b[0m",
      "\u001b[1;31mAssertionError\u001b[0m                            Traceback (most recent call last)",
      "Cell \u001b[1;32mIn[3], line 8\u001b[0m\n\u001b[0;32m      1\u001b[0m \u001b[39m# loading the Base model\u001b[39;00m\n\u001b[0;32m      2\u001b[0m base \u001b[39m=\u001b[39m DiffusionPipeline\u001b[39m.\u001b[39mfrom_pretrained(\n\u001b[0;32m      3\u001b[0m     \u001b[39m\"\u001b[39m\u001b[39mstabilityai/stable-diffusion-xl-base-1.0\u001b[39m\u001b[39m\"\u001b[39m,\n\u001b[0;32m      4\u001b[0m     torch_dtype \u001b[39m=\u001b[39m torch\u001b[39m.\u001b[39mfloat16,\n\u001b[0;32m      5\u001b[0m     variant \u001b[39m=\u001b[39m \u001b[39m\"\u001b[39m\u001b[39mfp16\u001b[39m\u001b[39m\"\u001b[39m,\n\u001b[0;32m      6\u001b[0m     use_safetensors \u001b[39m=\u001b[39m \u001b[39mTrue\u001b[39;00m\n\u001b[0;32m      7\u001b[0m )\n\u001b[1;32m----> 8\u001b[0m base\u001b[39m.\u001b[39;49mto(\u001b[39m\"\u001b[39;49m\u001b[39mcuda\u001b[39;49m\u001b[39m\"\u001b[39;49m)\n\u001b[0;32m     10\u001b[0m \u001b[39m# loading the Refiner model\u001b[39;00m\n\u001b[0;32m     11\u001b[0m refiner \u001b[39m=\u001b[39m DiffusionPipeline\u001b[39m.\u001b[39mfrom_pretrained(\n\u001b[0;32m     12\u001b[0m     \u001b[39m\"\u001b[39m\u001b[39mstabilityai/stable-diffusion-xl-refiner-1.0\u001b[39m\u001b[39m\"\u001b[39m,\n\u001b[0;32m     13\u001b[0m     text_encoder_2 \u001b[39m=\u001b[39m base\u001b[39m.\u001b[39mtext_encoder_2,\n\u001b[1;32m   (...)\u001b[0m\n\u001b[0;32m     17\u001b[0m     use_safetensors \u001b[39m=\u001b[39m \u001b[39mTrue\u001b[39;00m\n\u001b[0;32m     18\u001b[0m )\n",
      "File \u001b[1;32mc:\\Users\\katra\\anaconda3\\envs\\StabilityAi-Env\\Lib\\site-packages\\diffusers\\pipelines\\pipeline_utils.py:703\u001b[0m, in \u001b[0;36mDiffusionPipeline.to\u001b[1;34m(self, torch_device, torch_dtype, silence_dtype_warnings)\u001b[0m\n\u001b[0;32m    699\u001b[0m     logger\u001b[39m.\u001b[39mwarning(\n\u001b[0;32m    700\u001b[0m         \u001b[39mf\u001b[39m\u001b[39m\"\u001b[39m\u001b[39mThe module \u001b[39m\u001b[39m'\u001b[39m\u001b[39m{\u001b[39;00mmodule\u001b[39m.\u001b[39m\u001b[39m__class__\u001b[39m\u001b[39m.\u001b[39m\u001b[39m__name__\u001b[39m\u001b[39m}\u001b[39;00m\u001b[39m'\u001b[39m\u001b[39m has been loaded in 8bit and moving it to \u001b[39m\u001b[39m{\u001b[39;00mtorch_dtype\u001b[39m}\u001b[39;00m\u001b[39m via `.to()` is not yet supported. Module is still on \u001b[39m\u001b[39m{\u001b[39;00mmodule\u001b[39m.\u001b[39mdevice\u001b[39m}\u001b[39;00m\u001b[39m.\u001b[39m\u001b[39m\"\u001b[39m\n\u001b[0;32m    701\u001b[0m     )\n\u001b[0;32m    702\u001b[0m \u001b[39melse\u001b[39;00m:\n\u001b[1;32m--> 703\u001b[0m     module\u001b[39m.\u001b[39;49mto(torch_device, torch_dtype)\n\u001b[0;32m    705\u001b[0m \u001b[39mif\u001b[39;00m (\n\u001b[0;32m    706\u001b[0m     module\u001b[39m.\u001b[39mdtype \u001b[39m==\u001b[39m torch\u001b[39m.\u001b[39mfloat16\n\u001b[0;32m    707\u001b[0m     \u001b[39mand\u001b[39;00m \u001b[39mstr\u001b[39m(torch_device) \u001b[39min\u001b[39;00m [\u001b[39m\"\u001b[39m\u001b[39mcpu\u001b[39m\u001b[39m\"\u001b[39m]\n\u001b[0;32m    708\u001b[0m     \u001b[39mand\u001b[39;00m \u001b[39mnot\u001b[39;00m silence_dtype_warnings\n\u001b[0;32m    709\u001b[0m     \u001b[39mand\u001b[39;00m \u001b[39mnot\u001b[39;00m is_offloaded\n\u001b[0;32m    710\u001b[0m ):\n\u001b[0;32m    711\u001b[0m     logger\u001b[39m.\u001b[39mwarning(\n\u001b[0;32m    712\u001b[0m         \u001b[39m\"\u001b[39m\u001b[39mPipelines loaded with `torch_dtype=torch.float16` cannot run with `cpu` device. It\u001b[39m\u001b[39m\"\u001b[39m\n\u001b[0;32m    713\u001b[0m         \u001b[39m\"\u001b[39m\u001b[39m is not recommended to move them to `cpu` as running them will fail. Please make\u001b[39m\u001b[39m\"\u001b[39m\n\u001b[1;32m   (...)\u001b[0m\n\u001b[0;32m    716\u001b[0m         \u001b[39m\"\u001b[39m\u001b[39m `torch_dtype=torch.float16` argument, or use another device for inference.\u001b[39m\u001b[39m\"\u001b[39m\n\u001b[0;32m    717\u001b[0m     )\n",
      "File \u001b[1;32mc:\\Users\\katra\\anaconda3\\envs\\StabilityAi-Env\\Lib\\site-packages\\transformers\\modeling_utils.py:1900\u001b[0m, in \u001b[0;36mPreTrainedModel.to\u001b[1;34m(self, *args, **kwargs)\u001b[0m\n\u001b[0;32m   1895\u001b[0m     \u001b[39mraise\u001b[39;00m \u001b[39mValueError\u001b[39;00m(\n\u001b[0;32m   1896\u001b[0m         \u001b[39m\"\u001b[39m\u001b[39m`.to` is not supported for `4-bit` or `8-bit` models. Please use the model as it is, since the\u001b[39m\u001b[39m\"\u001b[39m\n\u001b[0;32m   1897\u001b[0m         \u001b[39m\"\u001b[39m\u001b[39m model has already been set to the correct devices and casted to the correct `dtype`.\u001b[39m\u001b[39m\"\u001b[39m\n\u001b[0;32m   1898\u001b[0m     )\n\u001b[0;32m   1899\u001b[0m \u001b[39melse\u001b[39;00m:\n\u001b[1;32m-> 1900\u001b[0m     \u001b[39mreturn\u001b[39;00m \u001b[39msuper\u001b[39;49m()\u001b[39m.\u001b[39;49mto(\u001b[39m*\u001b[39;49margs, \u001b[39m*\u001b[39;49m\u001b[39m*\u001b[39;49mkwargs)\n",
      "File \u001b[1;32mc:\\Users\\katra\\anaconda3\\envs\\StabilityAi-Env\\Lib\\site-packages\\torch\\nn\\modules\\module.py:1145\u001b[0m, in \u001b[0;36mModule.to\u001b[1;34m(self, *args, **kwargs)\u001b[0m\n\u001b[0;32m   1141\u001b[0m         \u001b[39mreturn\u001b[39;00m t\u001b[39m.\u001b[39mto(device, dtype \u001b[39mif\u001b[39;00m t\u001b[39m.\u001b[39mis_floating_point() \u001b[39mor\u001b[39;00m t\u001b[39m.\u001b[39mis_complex() \u001b[39melse\u001b[39;00m \u001b[39mNone\u001b[39;00m,\n\u001b[0;32m   1142\u001b[0m                     non_blocking, memory_format\u001b[39m=\u001b[39mconvert_to_format)\n\u001b[0;32m   1143\u001b[0m     \u001b[39mreturn\u001b[39;00m t\u001b[39m.\u001b[39mto(device, dtype \u001b[39mif\u001b[39;00m t\u001b[39m.\u001b[39mis_floating_point() \u001b[39mor\u001b[39;00m t\u001b[39m.\u001b[39mis_complex() \u001b[39melse\u001b[39;00m \u001b[39mNone\u001b[39;00m, non_blocking)\n\u001b[1;32m-> 1145\u001b[0m \u001b[39mreturn\u001b[39;00m \u001b[39mself\u001b[39;49m\u001b[39m.\u001b[39;49m_apply(convert)\n",
      "File \u001b[1;32mc:\\Users\\katra\\anaconda3\\envs\\StabilityAi-Env\\Lib\\site-packages\\torch\\nn\\modules\\module.py:797\u001b[0m, in \u001b[0;36mModule._apply\u001b[1;34m(self, fn)\u001b[0m\n\u001b[0;32m    795\u001b[0m \u001b[39mdef\u001b[39;00m \u001b[39m_apply\u001b[39m(\u001b[39mself\u001b[39m, fn):\n\u001b[0;32m    796\u001b[0m     \u001b[39mfor\u001b[39;00m module \u001b[39min\u001b[39;00m \u001b[39mself\u001b[39m\u001b[39m.\u001b[39mchildren():\n\u001b[1;32m--> 797\u001b[0m         module\u001b[39m.\u001b[39;49m_apply(fn)\n\u001b[0;32m    799\u001b[0m     \u001b[39mdef\u001b[39;00m \u001b[39mcompute_should_use_set_data\u001b[39m(tensor, tensor_applied):\n\u001b[0;32m    800\u001b[0m         \u001b[39mif\u001b[39;00m torch\u001b[39m.\u001b[39m_has_compatible_shallow_copy_type(tensor, tensor_applied):\n\u001b[0;32m    801\u001b[0m             \u001b[39m# If the new tensor has compatible tensor type as the existing tensor,\u001b[39;00m\n\u001b[0;32m    802\u001b[0m             \u001b[39m# the current behavior is to change the tensor in-place using `.data =`,\u001b[39;00m\n\u001b[1;32m   (...)\u001b[0m\n\u001b[0;32m    807\u001b[0m             \u001b[39m# global flag to let the user control whether they want the future\u001b[39;00m\n\u001b[0;32m    808\u001b[0m             \u001b[39m# behavior of overwriting the existing tensor or not.\u001b[39;00m\n",
      "File \u001b[1;32mc:\\Users\\katra\\anaconda3\\envs\\StabilityAi-Env\\Lib\\site-packages\\torch\\nn\\modules\\module.py:797\u001b[0m, in \u001b[0;36mModule._apply\u001b[1;34m(self, fn)\u001b[0m\n\u001b[0;32m    795\u001b[0m \u001b[39mdef\u001b[39;00m \u001b[39m_apply\u001b[39m(\u001b[39mself\u001b[39m, fn):\n\u001b[0;32m    796\u001b[0m     \u001b[39mfor\u001b[39;00m module \u001b[39min\u001b[39;00m \u001b[39mself\u001b[39m\u001b[39m.\u001b[39mchildren():\n\u001b[1;32m--> 797\u001b[0m         module\u001b[39m.\u001b[39;49m_apply(fn)\n\u001b[0;32m    799\u001b[0m     \u001b[39mdef\u001b[39;00m \u001b[39mcompute_should_use_set_data\u001b[39m(tensor, tensor_applied):\n\u001b[0;32m    800\u001b[0m         \u001b[39mif\u001b[39;00m torch\u001b[39m.\u001b[39m_has_compatible_shallow_copy_type(tensor, tensor_applied):\n\u001b[0;32m    801\u001b[0m             \u001b[39m# If the new tensor has compatible tensor type as the existing tensor,\u001b[39;00m\n\u001b[0;32m    802\u001b[0m             \u001b[39m# the current behavior is to change the tensor in-place using `.data =`,\u001b[39;00m\n\u001b[1;32m   (...)\u001b[0m\n\u001b[0;32m    807\u001b[0m             \u001b[39m# global flag to let the user control whether they want the future\u001b[39;00m\n\u001b[0;32m    808\u001b[0m             \u001b[39m# behavior of overwriting the existing tensor or not.\u001b[39;00m\n",
      "File \u001b[1;32mc:\\Users\\katra\\anaconda3\\envs\\StabilityAi-Env\\Lib\\site-packages\\torch\\nn\\modules\\module.py:797\u001b[0m, in \u001b[0;36mModule._apply\u001b[1;34m(self, fn)\u001b[0m\n\u001b[0;32m    795\u001b[0m \u001b[39mdef\u001b[39;00m \u001b[39m_apply\u001b[39m(\u001b[39mself\u001b[39m, fn):\n\u001b[0;32m    796\u001b[0m     \u001b[39mfor\u001b[39;00m module \u001b[39min\u001b[39;00m \u001b[39mself\u001b[39m\u001b[39m.\u001b[39mchildren():\n\u001b[1;32m--> 797\u001b[0m         module\u001b[39m.\u001b[39;49m_apply(fn)\n\u001b[0;32m    799\u001b[0m     \u001b[39mdef\u001b[39;00m \u001b[39mcompute_should_use_set_data\u001b[39m(tensor, tensor_applied):\n\u001b[0;32m    800\u001b[0m         \u001b[39mif\u001b[39;00m torch\u001b[39m.\u001b[39m_has_compatible_shallow_copy_type(tensor, tensor_applied):\n\u001b[0;32m    801\u001b[0m             \u001b[39m# If the new tensor has compatible tensor type as the existing tensor,\u001b[39;00m\n\u001b[0;32m    802\u001b[0m             \u001b[39m# the current behavior is to change the tensor in-place using `.data =`,\u001b[39;00m\n\u001b[1;32m   (...)\u001b[0m\n\u001b[0;32m    807\u001b[0m             \u001b[39m# global flag to let the user control whether they want the future\u001b[39;00m\n\u001b[0;32m    808\u001b[0m             \u001b[39m# behavior of overwriting the existing tensor or not.\u001b[39;00m\n",
      "File \u001b[1;32mc:\\Users\\katra\\anaconda3\\envs\\StabilityAi-Env\\Lib\\site-packages\\torch\\nn\\modules\\module.py:820\u001b[0m, in \u001b[0;36mModule._apply\u001b[1;34m(self, fn)\u001b[0m\n\u001b[0;32m    816\u001b[0m \u001b[39m# Tensors stored in modules are graph leaves, and we don't want to\u001b[39;00m\n\u001b[0;32m    817\u001b[0m \u001b[39m# track autograd history of `param_applied`, so we have to use\u001b[39;00m\n\u001b[0;32m    818\u001b[0m \u001b[39m# `with torch.no_grad():`\u001b[39;00m\n\u001b[0;32m    819\u001b[0m \u001b[39mwith\u001b[39;00m torch\u001b[39m.\u001b[39mno_grad():\n\u001b[1;32m--> 820\u001b[0m     param_applied \u001b[39m=\u001b[39m fn(param)\n\u001b[0;32m    821\u001b[0m should_use_set_data \u001b[39m=\u001b[39m compute_should_use_set_data(param, param_applied)\n\u001b[0;32m    822\u001b[0m \u001b[39mif\u001b[39;00m should_use_set_data:\n",
      "File \u001b[1;32mc:\\Users\\katra\\anaconda3\\envs\\StabilityAi-Env\\Lib\\site-packages\\torch\\nn\\modules\\module.py:1143\u001b[0m, in \u001b[0;36mModule.to.<locals>.convert\u001b[1;34m(t)\u001b[0m\n\u001b[0;32m   1140\u001b[0m \u001b[39mif\u001b[39;00m convert_to_format \u001b[39mis\u001b[39;00m \u001b[39mnot\u001b[39;00m \u001b[39mNone\u001b[39;00m \u001b[39mand\u001b[39;00m t\u001b[39m.\u001b[39mdim() \u001b[39min\u001b[39;00m (\u001b[39m4\u001b[39m, \u001b[39m5\u001b[39m):\n\u001b[0;32m   1141\u001b[0m     \u001b[39mreturn\u001b[39;00m t\u001b[39m.\u001b[39mto(device, dtype \u001b[39mif\u001b[39;00m t\u001b[39m.\u001b[39mis_floating_point() \u001b[39mor\u001b[39;00m t\u001b[39m.\u001b[39mis_complex() \u001b[39melse\u001b[39;00m \u001b[39mNone\u001b[39;00m,\n\u001b[0;32m   1142\u001b[0m                 non_blocking, memory_format\u001b[39m=\u001b[39mconvert_to_format)\n\u001b[1;32m-> 1143\u001b[0m \u001b[39mreturn\u001b[39;00m t\u001b[39m.\u001b[39;49mto(device, dtype \u001b[39mif\u001b[39;49;00m t\u001b[39m.\u001b[39;49mis_floating_point() \u001b[39mor\u001b[39;49;00m t\u001b[39m.\u001b[39;49mis_complex() \u001b[39melse\u001b[39;49;00m \u001b[39mNone\u001b[39;49;00m, non_blocking)\n",
      "File \u001b[1;32mc:\\Users\\katra\\anaconda3\\envs\\StabilityAi-Env\\Lib\\site-packages\\torch\\cuda\\__init__.py:239\u001b[0m, in \u001b[0;36m_lazy_init\u001b[1;34m()\u001b[0m\n\u001b[0;32m    235\u001b[0m     \u001b[39mraise\u001b[39;00m \u001b[39mRuntimeError\u001b[39;00m(\n\u001b[0;32m    236\u001b[0m         \u001b[39m\"\u001b[39m\u001b[39mCannot re-initialize CUDA in forked subprocess. To use CUDA with \u001b[39m\u001b[39m\"\u001b[39m\n\u001b[0;32m    237\u001b[0m         \u001b[39m\"\u001b[39m\u001b[39mmultiprocessing, you must use the \u001b[39m\u001b[39m'\u001b[39m\u001b[39mspawn\u001b[39m\u001b[39m'\u001b[39m\u001b[39m start method\u001b[39m\u001b[39m\"\u001b[39m)\n\u001b[0;32m    238\u001b[0m \u001b[39mif\u001b[39;00m \u001b[39mnot\u001b[39;00m \u001b[39mhasattr\u001b[39m(torch\u001b[39m.\u001b[39m_C, \u001b[39m'\u001b[39m\u001b[39m_cuda_getDeviceCount\u001b[39m\u001b[39m'\u001b[39m):\n\u001b[1;32m--> 239\u001b[0m     \u001b[39mraise\u001b[39;00m \u001b[39mAssertionError\u001b[39;00m(\u001b[39m\"\u001b[39m\u001b[39mTorch not compiled with CUDA enabled\u001b[39m\u001b[39m\"\u001b[39m)\n\u001b[0;32m    240\u001b[0m \u001b[39mif\u001b[39;00m _cudart \u001b[39mis\u001b[39;00m \u001b[39mNone\u001b[39;00m:\n\u001b[0;32m    241\u001b[0m     \u001b[39mraise\u001b[39;00m \u001b[39mAssertionError\u001b[39;00m(\n\u001b[0;32m    242\u001b[0m         \u001b[39m\"\u001b[39m\u001b[39mlibcudart functions unavailable. It looks like you have a broken build?\u001b[39m\u001b[39m\"\u001b[39m)\n",
      "\u001b[1;31mAssertionError\u001b[0m: Torch not compiled with CUDA enabled"
     ]
    }
   ],
   "source": [
    "# loading the Base model\n",
    "base = DiffusionPipeline.from_pretrained(\n",
    "    \"stabilityai/stable-diffusion-xl-base-1.0\",\n",
    "    torch_dtype = torch.float16,\n",
    "    variant = \"fp16\",\n",
    "    use_safetensors = True\n",
    ")\n",
    "base.to(\"cuda\")\n",
    "\n",
    "# loading the Refiner model\n",
    "refiner = DiffusionPipeline.from_pretrained(\n",
    "    \"stabilityai/stable-diffusion-xl-refiner-1.0\",\n",
    "    text_encoder_2 = base.text_encoder_2,\n",
    "    vae = base.vae,\n",
    "    torch_dtype = torch.float16,\n",
    "    variant = \"fp16\",\n",
    "    use_safetensors = True\n",
    ")\n",
    "refiner.to(\"cuda\")"
   ]
  },
  {
   "cell_type": "markdown",
   "metadata": {},
   "source": [
    "### Loading the \"Upscaler\" model\n",
    "\n",
    "As the name suggests, it upscales or improves the resolution of the generated images.\n",
    "This is needed as these models typically support very low resolutions (in this case, a resolution of upto 1024x1024px) which might not be very sharp for sharing your AI masterpieces online."
   ]
  },
  {
   "cell_type": "code",
   "execution_count": null,
   "metadata": {},
   "outputs": [],
   "source": [
    "# loading the upscaler\n",
    "upscaler = DiffusionPipeline.from_pretrained(\n",
    "    \"stabilityai/sd-x2-latent-upscaler\",\n",
    "    torch_dtype=torch.float16,\n",
    "    use_safetensors=True\n",
    ")\n",
    "upscaler.to(\"cuda\")"
   ]
  },
  {
   "cell_type": "markdown",
   "metadata": {},
   "source": [
    "### Defining a function that handles the image generation process\n",
    "\n",
    "We pass in the prompt, image heigth, and width that the user gives, which is then sent to the models for generating the image."
   ]
  },
  {
   "cell_type": "code",
   "execution_count": null,
   "metadata": {},
   "outputs": [],
   "source": [
    "def image_generator(prompt, negative_prompt, img_height, img_width, \n",
    "                    guidance, steps, seed, enable_upscaling, high_noise_fraction):\n",
    "\n",
    "    generator = torch.Generator(device = \"cuda\").manual_seed(seed)\n",
    "    init_image = base(\n",
    "        prompt = prompt,\n",
    "        negative_prompt = negative_prompt,\n",
    "        height = img_height,\n",
    "        width = img_width,\n",
    "        guidance_scale = guidance,\n",
    "        num_inference_steps = steps,\n",
    "        generator = generator,\n",
    "        denoising_end = high_noise_fraction,\n",
    "    ).images\n",
    "\n",
    "    if enable_upscaling:\n",
    "        final_image = refiner(\n",
    "            \n",
    "        )\n",
    "        \n"
   ]
  },
  {
   "cell_type": "code",
   "execution_count": 1,
   "metadata": {},
   "outputs": [
    {
     "name": "stdout",
     "output_type": "stream",
     "text": [
      "^C\n",
      "Note: you may need to restart the kernel to use updated packages.\n"
     ]
    }
   ],
   "source": [
    "%pip uninstall torch"
   ]
  }
 ],
 "metadata": {
  "kernelspec": {
   "display_name": "StabilityAi-Env",
   "language": "python",
   "name": "python3"
  },
  "language_info": {
   "codemirror_mode": {
    "name": "ipython",
    "version": 3
   },
   "file_extension": ".py",
   "mimetype": "text/x-python",
   "name": "python",
   "nbconvert_exporter": "python",
   "pygments_lexer": "ipython3",
   "version": "3.11.4"
  },
  "orig_nbformat": 4
 },
 "nbformat": 4,
 "nbformat_minor": 2
}
