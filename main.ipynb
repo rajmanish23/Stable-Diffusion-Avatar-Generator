{
 "cells": [
  {
   "cell_type": "markdown",
   "metadata": {},
   "source": [
    "### Importing all the necessary modules for the application.\n",
    "\n",
    "__*IMPORTANT:* After installing the packages, please restart the Jupyter kernal for the changes to take place.__"
   ]
  },
  {
   "cell_type": "code",
   "execution_count": null,
   "metadata": {},
   "outputs": [],
   "source": [
    "import pkgutil\n",
    "\n",
    "# installing Diffusers package for Stable Diffusion Image Generation.\n",
    "if pkgutil.find_loader('diffusers') is None:\n",
    "    %pip install diffusers\n",
    "else:\n",
    "    print('diffusers already installed')\n",
    "\n",
    "# installing PyTorch for Transformers, accelerators and SafeTensors.\n",
    "if pkgutil.find_loader('torch') is None:\n",
    "    %pip install torch\n",
    "else:\n",
    "    print('torch already installed')\n",
    "\n",
    "# installing the Invisible WaterMarking package.\n",
    "if pkgutil.find_loader('invisible_watermark') is None:\n",
    "    %pip install invisible_watermark\n",
    "else:\n",
    "    print('invisible_watermark already installed')\n",
    "\n",
    "# installing Gradio for the GUI.\n",
    "if pkgutil.find_loader('gradio') is None:\n",
    "    %pip install gradio\n",
    "else:\n",
    "    print('gradio already installed')\n",
    "\n",
    "# installing transformers\n",
    "if pkgutil.find_loader('transformers') is None:\n",
    "    %pip install transformers\n",
    "else:\n",
    "    print('transformers already installed')\n",
    "\n",
    "# installing Accelerate\n",
    "if pkgutil.find_loader('accelerate') is None:\n",
    "    %pip install accelerate\n",
    "else:\n",
    "    print('accelerate already installed')\n",
    "\n",
    "# installing SafeTensors\n",
    "if pkgutil.find_loader('safetensors') is None:\n",
    "    %pip install safetensors\n",
    "else:\n",
    "    print('safetensors already installed')\n"
   ]
  },
  {
   "cell_type": "code",
   "execution_count": null,
   "metadata": {},
   "outputs": [],
   "source": [
    "# importing packages\n",
    "import torch\n",
    "from diffusers import DiffusionPipeline\n",
    "import gradio as gr\n",
    "\n",
    "# printing versions\n",
    "print(torch.__version__)\n",
    "# print(diffusers.__version__)\n",
    "print(gr.__version__)\n"
   ]
  },
  {
   "cell_type": "code",
   "execution_count": null,
   "metadata": {},
   "outputs": [],
   "source": [
    "# loading the Base model\n",
    "base = DiffusionPipeline.from_pretrained(\n",
    "    \"stabilityai/stable-diffusion-xl-base-1.0\",\n",
    "    torch_dtype = torch.float16,\n",
    "    variant = \"fp16\",\n",
    "    use_safetensors = True\n",
    ")\n",
    "base.to(\"cuda\")\n",
    "\n",
    "# loading the Refiner model\n",
    "refiner = DiffusionPipeline.from_pretrained(\n",
    "    \"stabilityai/stable-diffusion-xl-refiner-1.0\",\n",
    "    text_encoder_2 = base.text_encoder_2,\n",
    "    vae = base.vae,\n",
    "    torch_dtype = torch.float16,\n",
    "    variant = \"fp16\",\n",
    "    use_safetensors = True\n",
    ")\n",
    "refiner.to(\"cuda\")"
   ]
  },
  {
   "cell_type": "code",
   "execution_count": null,
   "metadata": {},
   "outputs": [],
   "source": [
    "def image_generator(prompt, )"
   ]
  }
 ],
 "metadata": {
  "kernelspec": {
   "display_name": "StabilityAi-Env",
   "language": "python",
   "name": "python3"
  },
  "language_info": {
   "codemirror_mode": {
    "name": "ipython",
    "version": 3
   },
   "file_extension": ".py",
   "mimetype": "text/x-python",
   "name": "python",
   "nbconvert_exporter": "python",
   "pygments_lexer": "ipython3",
   "version": "3.11.4"
  },
  "orig_nbformat": 4
 },
 "nbformat": 4,
 "nbformat_minor": 2
}
